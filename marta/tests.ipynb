{
 "cells": [
  {
   "cell_type": "code",
   "execution_count": 3,
   "metadata": {},
   "outputs": [
    {
     "name": "stdout",
     "output_type": "stream",
     "text": [
      "----------------------------------------\n",
      "Splitting data into train-validate-test sets...\n",
      "The file does not exist\n",
      "The file does not exist\n",
      "Images have been divided into train-validate-test sets.\n",
      "Total number of images:  585\n",
      "Number of images train-validate-test:  16 - 2 - 2\n",
      "----------------------------------------\n",
      "Creating transformations...\n",
      "Transforms have been defined.\n"
     ]
    }
   ],
   "source": [
    "import torch\n",
    "from pathlib import Path\n",
    "from monai.utils        import set_determinism  \n",
    "from split_data         import split_data\n",
    "from transforms         import get_transforms\n",
    "from model              import ResidualAttention3DUnet, MTLResidualAttention3DUnet, MTLResidualAttentionRecon3DUnet\n",
    "from train_model        import train_model\n",
    "from test_model         import test_model\n",
    "from train_model_base   import train_model_base\n",
    "from test_model_base    import test_model_base\n",
    "\n",
    "# Choose whether to train and/or test model(s)\n",
    "TRAIN           = 1\n",
    "TEST            = 1\n",
    "\n",
    "# Choose which models to test\n",
    "BASE_CASE       = 1\n",
    "AUX_SEGMENT     = 1\n",
    "AUX_RECONSTRUCT = 1\n",
    "\n",
    "# Parameters\n",
    "params = {\n",
    "    'BATCH_SIZE':       2,\n",
    "    'MAX_EPOCHS':       100,\n",
    "    'VAL_INT':          10,\n",
    "    'PRINT_INT':        10\n",
    "}\n",
    "\n",
    "# Set deterministic training for reproducibility\n",
    "set_determinism(seed = 2056)\n",
    "\n",
    "# Path to data\n",
    "img_path = Path(\"../data\")\n",
    "train_files, val_files, test_files = split_data(img_path, scale=28)\n",
    "\n",
    "# Create transforms for training\n",
    "train_transforms, val_transforms, pred_main, label_main, pred_aux, label_aux = get_transforms()\n",
    "\n",
    "# Use CUDA\n",
    "device = torch.device(\"cuda\" if torch.cuda.is_available() else \"cpu\")\n",
    "\n",
    "# Define organ names in the segmentation task\n",
    "all_organs =  [\"Background\", \"Bladder\", \"Bone\", \"Obturator internus\", \"Transition zone\", \"Central gland\", \"Rectum\", \"Seminal vesicle\", \"Neurovascular bundle\"]\n",
    "organs = {\n",
    "    'all': all_organs,\n",
    "    'main': [\"Transition zone\", \"Central gland\"],\n",
    "    'aux': [],\n",
    "    'dict': {organ: idx for idx, organ in enumerate(all_organs)}\n",
    "    }"
   ]
  },
  {
   "attachments": {},
   "cell_type": "markdown",
   "metadata": {},
   "source": [
    "## BASE CASE"
   ]
  },
  {
   "cell_type": "code",
   "execution_count": null,
   "metadata": {},
   "outputs": [],
   "source": [
    "model  = ResidualAttention3DUnet(in_channels = 1, out_channels = len(organs['main'])+1).to(device) \n",
    "\n",
    "if TRAIN:\n",
    "    torch.cuda.empty_cache()\n",
    "    train_model_base(model, device, params, train_files, train_transforms, val_files, val_transforms, organs, pred_main, label_main)"
   ]
  },
  {
   "cell_type": "code",
   "execution_count": null,
   "metadata": {},
   "outputs": [],
   "source": [
    "if TEST:\n",
    "        torch.cuda.empty_cache()\n",
    "        test_model_base(model, device, params, test_files, val_transforms, organs, pred_main, label_main)"
   ]
  },
  {
   "attachments": {},
   "cell_type": "markdown",
   "metadata": {},
   "source": [
    "## AUXILIARY - SEGMENT"
   ]
  },
  {
   "cell_type": "code",
   "execution_count": null,
   "metadata": {},
   "outputs": [],
   "source": [
    "organs['aux']  = [\"Rectum\", \"Seminal vesicle\", \"Neurovascular bundle\"]\n",
    "params['TASK'] = 'SEGMENT'\n",
    "model = MTLResidualAttention3DUnet(in_channels = 1, main_out_channels = len(organs['main'])+1, aux_out_channels = len(organs['aux'])+1).to(device) \n",
    "\n",
    "if TRAIN:\n",
    "    torch.cuda.empty_cache()\n",
    "    train_model(model, device, params, train_files, train_transforms, val_files, val_transforms, organs, pred_main, label_main, pred_aux, label_aux)"
   ]
  },
  {
   "cell_type": "code",
   "execution_count": null,
   "metadata": {},
   "outputs": [],
   "source": [
    "if TEST:\n",
    "    torch.cuda.empty_cache()\n",
    "    test_model(model, device, params, test_files, val_transforms, organs, pred_main, label_main, pred_aux, label_aux)"
   ]
  },
  {
   "attachments": {},
   "cell_type": "markdown",
   "metadata": {},
   "source": [
    "## AUXILIARY - RECONSTRUCT"
   ]
  },
  {
   "cell_type": "code",
   "execution_count": null,
   "metadata": {},
   "outputs": [],
   "source": [
    "organs['aux'] = []\n",
    "params['TASK'] = 'RECONSTRUCT'\n",
    "    \n",
    "model = MTLResidualAttentionRecon3DUnet(in_channels = 1, main_out_channels = len(organs['main'])+1).to(device) \n",
    "\n",
    "if TRAIN:\n",
    "    torch.cuda.empty_cache()\n",
    "    train_model(model, device, params, train_files, train_transforms, val_files, val_transforms, organs, pred_main, label_main, pred_aux, label_aux)"
   ]
  },
  {
   "cell_type": "code",
   "execution_count": null,
   "metadata": {},
   "outputs": [],
   "source": [
    "if TEST:\n",
    "    torch.cuda.empty_cache()\n",
    "    test_model(model, device, params, test_files, val_transforms, organs, pred_main, label_main, pred_aux, label_aux)"
   ]
  }
 ],
 "metadata": {
  "kernelspec": {
   "display_name": "base",
   "language": "python",
   "name": "python3"
  },
  "language_info": {
   "codemirror_mode": {
    "name": "ipython",
    "version": 3
   },
   "file_extension": ".py",
   "mimetype": "text/x-python",
   "name": "python",
   "nbconvert_exporter": "python",
   "pygments_lexer": "ipython3",
   "version": "3.9.7"
  },
  "orig_nbformat": 4
 },
 "nbformat": 4,
 "nbformat_minor": 2
}
