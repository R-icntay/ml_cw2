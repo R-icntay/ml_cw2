{
 "cells": [
  {
   "cell_type": "code",
   "execution_count": 3,
   "metadata": {},
   "outputs": [
    {
     "name": "stdout",
     "output_type": "stream",
     "text": [
      "----------------------------------------\n",
      "Splitting data into train-validate-test sets...\n",
      "The file does not exist\n",
      "The file does not exist\n",
      "Images have been divided into train-validate-test sets.\n",
      "Total number of images:  585\n",
      "Number of images train-validate-test:  23 - 2 - 4\n",
      "----------------------------------------\n",
      "Creating transformations...\n",
      "Transforms have been defined.\n"
     ]
    }
   ],
   "source": [
    "import torch\n",
    "from pathlib import Path\n",
    "from monai.utils        import set_determinism  \n",
    "from split_data         import split_data\n",
    "from transforms         import get_transforms\n",
    "from model              import base_MTLResidualAttention3DUnet, MTLResidualAttention3DUnet\n",
    "from train_model        import train_model\n",
    "from test_model         import test_model\n",
    "from train_model_base   import train_model_base\n",
    "from test_model_base    import test_model_base\n",
    "\n",
    "# Choose whether to train and/or test model(s)\n",
    "TRAIN           = 0\n",
    "TEST            = 1\n",
    "\n",
    "# Choose which models to test\n",
    "BASE_CASE       = 0\n",
    "AUX_SEGMENT_3   = 1\n",
    "AUX_SEGMENT_6   = 1\n",
    "AUX_RECONSTRUCT = 1\n",
    "\n",
    "# Parameters\n",
    "params = {\n",
    "    'BATCH_SIZE':       2,\n",
    "    'MAX_EPOCHS':       100,\n",
    "    'VAL_INT':          10,\n",
    "    'PRINT_INT':        10\n",
    "}\n",
    "\n",
    "# Set deterministic training for reproducibility\n",
    "set_determinism(seed = 2056)\n",
    "\n",
    "# Path to data\n",
    "img_path = Path(\"../data\")\n",
    "train_files, val_files, test_files = split_data(img_path, 20)\n",
    "\n",
    "# Create transforms for training\n",
    "train_transforms, val_transforms, pred_main, label_main, pred_aux_3, label_aux_3, pred_aux_6, label_aux_6 = get_transforms()\n",
    "\n",
    "# Use CUDA\n",
    "device = torch.device(\"cuda\" if torch.cuda.is_available() else \"cpu\")\n",
    "\n",
    "# Define organ names in the segmentation task\n",
    "all_organs =  [\"Background\", \"Bladder\", \"Bone\", \"Obturator internus\", \"Transition zone\", \"Central gland\", \"Rectum\", \"Seminal vesicle\", \"Neurovascular bundle\"]\n",
    "organs = {\n",
    "    'all': all_organs,\n",
    "    'main': [\"Transition zone\", \"Central gland\"],\n",
    "    'dict': {organ: float(idx) for idx, organ in enumerate(all_organs)}\n",
    "    }"
   ]
  },
  {
   "cell_type": "code",
   "execution_count": 4,
   "metadata": {},
   "outputs": [
    {
     "name": "stdout",
     "output_type": "stream",
     "text": [
      "----------------------------------------\n",
      "Starting model testing...\n"
     ]
    },
    {
     "name": "stderr",
     "output_type": "stream",
     "text": [
      "pixdim[0] (qfac) should be 1 (default) or -1; setting qfac to 1\n"
     ]
    },
    {
     "name": "stdout",
     "output_type": "stream",
     "text": [
      "2023-05-05 12:40:44,891 - pixdim[0] (qfac) should be 1 (default) or -1; setting qfac to 1\n"
     ]
    },
    {
     "name": "stderr",
     "output_type": "stream",
     "text": [
      "/opt/anaconda3/lib/python3.9/site-packages/torch/_tensor.py:1295: UserWarning: TypedStorage is deprecated. It will be removed in the future and UntypedStorage will be the only storage class. This should only matter to you if you are using storages directly.  To access UntypedStorage directly, use tensor.untyped_storage() instead of tensor.storage()\n",
      "  ret = func(*args, **kwargs)\n",
      "/opt/anaconda3/lib/python3.9/site-packages/monai/data/__init__.py:127: UserWarning: TypedStorage is deprecated. It will be removed in the future and UntypedStorage will be the only storage class. This should only matter to you if you are using storages directly.  To access UntypedStorage directly, use tensor.untyped_storage() instead of tensor.storage()\n",
      "  if storage.is_cuda:\n",
      "/opt/anaconda3/lib/python3.9/site-packages/monai/data/__init__.py:120: UserWarning: TypedStorage is deprecated. It will be removed in the future and UntypedStorage will be the only storage class. This should only matter to you if you are using storages directly.  To access UntypedStorage directly, use tensor.untyped_storage() instead of tensor.storage()\n",
      "  t = cls([], dtype=storage.dtype, device=storage.device)\n",
      "/opt/anaconda3/lib/python3.9/site-packages/torch/_tensor.py:1295: UserWarning: TypedStorage is deprecated. It will be removed in the future and UntypedStorage will be the only storage class. This should only matter to you if you are using storages directly.  To access UntypedStorage directly, use tensor.untyped_storage() instead of tensor.storage()\n",
      "  ret = func(*args, **kwargs)\n",
      "/opt/anaconda3/lib/python3.9/site-packages/monai/data/__init__.py:127: UserWarning: TypedStorage is deprecated. It will be removed in the future and UntypedStorage will be the only storage class. This should only matter to you if you are using storages directly.  To access UntypedStorage directly, use tensor.untyped_storage() instead of tensor.storage()\n",
      "  if storage.is_cuda:\n"
     ]
    },
    {
     "name": "stdout",
     "output_type": "stream",
     "text": [
      "\n",
      "Mean dice for main task: 0.8630\n",
      "Mean metric for aux task: 0.0000\n",
      "----------------------------------------\n",
      "Starting model testing...\n"
     ]
    },
    {
     "name": "stderr",
     "output_type": "stream",
     "text": [
      "pixdim[0] (qfac) should be 1 (default) or -1; setting qfac to 1\n"
     ]
    },
    {
     "name": "stdout",
     "output_type": "stream",
     "text": [
      "2023-05-05 12:45:36,031 - pixdim[0] (qfac) should be 1 (default) or -1; setting qfac to 1\n"
     ]
    },
    {
     "name": "stderr",
     "output_type": "stream",
     "text": [
      "/opt/anaconda3/lib/python3.9/site-packages/torch/_tensor.py:1295: UserWarning: TypedStorage is deprecated. It will be removed in the future and UntypedStorage will be the only storage class. This should only matter to you if you are using storages directly.  To access UntypedStorage directly, use tensor.untyped_storage() instead of tensor.storage()\n",
      "  ret = func(*args, **kwargs)\n",
      "/opt/anaconda3/lib/python3.9/site-packages/monai/data/__init__.py:127: UserWarning: TypedStorage is deprecated. It will be removed in the future and UntypedStorage will be the only storage class. This should only matter to you if you are using storages directly.  To access UntypedStorage directly, use tensor.untyped_storage() instead of tensor.storage()\n",
      "  if storage.is_cuda:\n",
      "/opt/anaconda3/lib/python3.9/site-packages/torch/_tensor.py:1295: UserWarning: TypedStorage is deprecated. It will be removed in the future and UntypedStorage will be the only storage class. This should only matter to you if you are using storages directly.  To access UntypedStorage directly, use tensor.untyped_storage() instead of tensor.storage()\n",
      "  ret = func(*args, **kwargs)\n",
      "/opt/anaconda3/lib/python3.9/site-packages/monai/data/__init__.py:127: UserWarning: TypedStorage is deprecated. It will be removed in the future and UntypedStorage will be the only storage class. This should only matter to you if you are using storages directly.  To access UntypedStorage directly, use tensor.untyped_storage() instead of tensor.storage()\n",
      "  if storage.is_cuda:\n"
     ]
    },
    {
     "name": "stdout",
     "output_type": "stream",
     "text": [
      "\n",
      "Mean dice for main task: 0.8763\n",
      "Mean metric for aux task: 0.7725\n",
      "----------------------------------------\n",
      "Starting model testing...\n"
     ]
    },
    {
     "name": "stderr",
     "output_type": "stream",
     "text": [
      "pixdim[0] (qfac) should be 1 (default) or -1; setting qfac to 1\n"
     ]
    },
    {
     "name": "stdout",
     "output_type": "stream",
     "text": [
      "2023-05-05 12:50:27,798 - pixdim[0] (qfac) should be 1 (default) or -1; setting qfac to 1\n"
     ]
    },
    {
     "name": "stderr",
     "output_type": "stream",
     "text": [
      "/opt/anaconda3/lib/python3.9/site-packages/torch/_tensor.py:1295: UserWarning: TypedStorage is deprecated. It will be removed in the future and UntypedStorage will be the only storage class. This should only matter to you if you are using storages directly.  To access UntypedStorage directly, use tensor.untyped_storage() instead of tensor.storage()\n",
      "  ret = func(*args, **kwargs)\n",
      "/opt/anaconda3/lib/python3.9/site-packages/monai/data/__init__.py:127: UserWarning: TypedStorage is deprecated. It will be removed in the future and UntypedStorage will be the only storage class. This should only matter to you if you are using storages directly.  To access UntypedStorage directly, use tensor.untyped_storage() instead of tensor.storage()\n",
      "  if storage.is_cuda:\n",
      "/opt/anaconda3/lib/python3.9/site-packages/torch/_tensor.py:1295: UserWarning: TypedStorage is deprecated. It will be removed in the future and UntypedStorage will be the only storage class. This should only matter to you if you are using storages directly.  To access UntypedStorage directly, use tensor.untyped_storage() instead of tensor.storage()\n",
      "  ret = func(*args, **kwargs)\n",
      "/opt/anaconda3/lib/python3.9/site-packages/monai/data/__init__.py:127: UserWarning: TypedStorage is deprecated. It will be removed in the future and UntypedStorage will be the only storage class. This should only matter to you if you are using storages directly.  To access UntypedStorage directly, use tensor.untyped_storage() instead of tensor.storage()\n",
      "  if storage.is_cuda:\n"
     ]
    },
    {
     "name": "stdout",
     "output_type": "stream",
     "text": [
      "\n",
      "Mean dice for main task: 0.8634\n",
      "Mean metric for aux task: 0.0003\n"
     ]
    }
   ],
   "source": [
    "############# BASE CASE #############\n",
    "if BASE_CASE:\n",
    "    organs['aux']  = []\n",
    "    params['TASK'] = 'BASE_CASE'\n",
    "    model_name     = 'base_case'\n",
    "    model  = base_MTLResidualAttention3DUnet(in_channels = 1, main_out_channels = len(organs['main'])+1, device=device, gated_attention = True).to(device) \n",
    "\n",
    "    if TRAIN:\n",
    "        torch.cuda.empty_cache()\n",
    "        train_model_base(model, device, params, train_files, train_transforms, val_files, val_transforms, organs, pred_main, label_main, model_name)\n",
    "    if TEST:\n",
    "        torch.cuda.empty_cache()\n",
    "        test_model_base(model, device, params, test_files, val_transforms, organs, pred_main, label_main, model_name)\n",
    "\n",
    "\n",
    "############# AUXILIARY TASK - SEGMENT 3 EXTRA STRUCTURES #############\n",
    "if AUX_SEGMENT_3:\n",
    "    organs['aux']  = [\"Rectum\", \"Seminal vesicle\", \"Neurovascular bundle\"]\n",
    "    params['TASK'] = 'SEGMENT'\n",
    "    model_name     = 'auxiliary_segment_3'\n",
    "    model = MTLResidualAttention3DUnet(in_channels = 1, main_out_channels = len(organs['main'])+1, aux_out_channels = len(organs['aux'])+1, device=device, gated_attention = True).to(device) \n",
    "    \n",
    "    if TRAIN:\n",
    "        torch.cuda.empty_cache()\n",
    "        train_model(model, device, params, train_files, train_transforms, val_files, val_transforms, organs, pred_main, label_main, pred_aux_3, label_aux_3, model_name)\n",
    "    if TEST:\n",
    "        torch.cuda.empty_cache()\n",
    "        test_model(model, device, params, test_files, val_transforms, organs, pred_main, label_main, pred_aux_3, label_aux_3, model_name)\n",
    "        \n",
    "        \n",
    "############# AUXILIARY TASK - SEGMENT 6 EXTRA STRUCTURES #############\n",
    "if AUX_SEGMENT_6:\n",
    "    organs['aux']  = [\"Rectum\", \"Seminal vesicle\", \"Neurovascular bundle\", \"Bladder\", \"Bone\", \"Obturator internus\"]\n",
    "    params['TASK'] = 'SEGMENT'\n",
    "    model_name     = 'auxiliary_segment_6'\n",
    "    model = MTLResidualAttention3DUnet(in_channels = 1, main_out_channels = len(organs['main'])+1, aux_out_channels = len(organs['aux'])+1, device=device, gated_attention = True).to(device) \n",
    "    \n",
    "    if TRAIN:\n",
    "        torch.cuda.empty_cache()\n",
    "        train_model(model, device, params, train_files, train_transforms, val_files, val_transforms, organs, pred_main, label_main, pred_aux_6, label_aux_6, model_name)\n",
    "    if TEST:\n",
    "        torch.cuda.empty_cache()\n",
    "        test_model(model, device, params, test_files, val_transforms, organs, pred_main, label_main, pred_aux_6, label_aux_6, model_name)\n",
    "    \n",
    "    \n",
    "############# AUXILIARY TASK - RECONSTRUCTION #############\n",
    "if AUX_RECONSTRUCT:\n",
    "    organs['aux']   = []\n",
    "    params['TASK'] = 'RECONSTRUCT'\n",
    "    model_name     = 'auxiliary_reconstruct'\n",
    "    model = MTLResidualAttention3DUnet(in_channels = 1, main_out_channels = len(organs['main'])+1, aux_out_channels=1, device=device, gated_attention = True).to(device) \n",
    "    if TRAIN:\n",
    "        torch.cuda.empty_cache()\n",
    "        train_model(model, device, params, train_files, train_transforms, val_files, val_transforms, organs, pred_main, label_main, pred_aux_3, label_aux_3, model_name)\n",
    "    if TEST:\n",
    "        torch.cuda.empty_cache()\n",
    "        test_model(model, device, params, test_files, val_transforms, organs, pred_main, label_main, pred_aux_3, label_aux_3, model_name)\n",
    "    \n"
   ]
  }
 ],
 "metadata": {
  "kernelspec": {
   "display_name": "base",
   "language": "python",
   "name": "python3"
  },
  "language_info": {
   "codemirror_mode": {
    "name": "ipython",
    "version": 3
   },
   "file_extension": ".py",
   "mimetype": "text/x-python",
   "name": "python",
   "nbconvert_exporter": "python",
   "pygments_lexer": "ipython3",
   "version": "3.9.7"
  },
  "orig_nbformat": 4
 },
 "nbformat": 4,
 "nbformat_minor": 2
}
